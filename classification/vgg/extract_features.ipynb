{
 "cells": [
  {
   "cell_type": "code",
   "execution_count": null,
   "id": "cc2267c4",
   "metadata": {},
   "outputs": [],
   "source": [
    "from keras_vggface.vggface import VGGFace"
   ]
  },
  {
   "cell_type": "code",
   "execution_count": null,
   "id": "43ec0e78",
   "metadata": {},
   "outputs": [],
   "source": [
    "from keras_vggface.utils import preprocess_input"
   ]
  },
  {
   "cell_type": "code",
   "execution_count": null,
   "id": "b516736f",
   "metadata": {},
   "outputs": [],
   "source": [
    "from PIL import Image\n",
    "from pathlib import Path\n",
    "import numpy as np"
   ]
  },
  {
   "cell_type": "code",
   "execution_count": null,
   "id": "8c704769",
   "metadata": {},
   "outputs": [],
   "source": [
    "EXPECTED_SIZE = (224, 224)"
   ]
  },
  {
   "cell_type": "code",
   "execution_count": null,
   "id": "93aaa24a",
   "metadata": {},
   "outputs": [],
   "source": [
    "faces_dir = Path(\"../../images/ungrouped_faces/\")"
   ]
  },
  {
   "cell_type": "code",
   "execution_count": null,
   "id": "3fdfb1a2",
   "metadata": {},
   "outputs": [],
   "source": [
    "faces_paths = list(faces_dir.glob(\"*jpg\"))"
   ]
  },
  {
   "cell_type": "code",
   "execution_count": null,
   "id": "d218903e",
   "metadata": {},
   "outputs": [],
   "source": [
    "def load_img(img_path:Path):\n",
    "    img = Image.open(img_path)\n",
    "    img = img.resize(EXPECTED_SIZE)\n",
    "    img_array = np.asarray(img, dtype=np.float32)\n",
    "#     img_norm = img_array / 255.0 # scale uint8 coded colors to the [0.0, 1.0] floats\n",
    "    return img_array"
   ]
  },
  {
   "cell_type": "code",
   "execution_count": null,
   "id": "136f5cb2",
   "metadata": {},
   "outputs": [],
   "source": [
    "faces_paths[0].stem"
   ]
  },
  {
   "cell_type": "code",
   "execution_count": null,
   "id": "99005c84",
   "metadata": {},
   "outputs": [],
   "source": [
    "faces_paths = sorted(faces_paths, key=lambda p: int(p.stem))"
   ]
  },
  {
   "cell_type": "code",
   "execution_count": null,
   "id": "394c5961",
   "metadata": {},
   "outputs": [],
   "source": [
    "faces_paths"
   ]
  },
  {
   "cell_type": "code",
   "execution_count": null,
   "id": "3830b6f1",
   "metadata": {},
   "outputs": [],
   "source": [
    "faces = np.zeros((len(faces_paths), *EXPECTED_SIZE, 3), dtype=np.float32)\n",
    "for i, img_path in enumerate(faces_paths):\n",
    "    face = load_img(img_path)\n",
    "    faces[i, ...] = face"
   ]
  },
  {
   "cell_type": "code",
   "execution_count": null,
   "id": "bcf15ab9",
   "metadata": {},
   "outputs": [],
   "source": [
    "faces_ready_for_model = preprocess_input(faces, version=2)"
   ]
  },
  {
   "cell_type": "code",
   "execution_count": null,
   "id": "d201f392",
   "metadata": {},
   "outputs": [],
   "source": [
    "resnet50_features = VGGFace(model='resnet50', include_top=False, input_shape=(224, 224, 3))"
   ]
  },
  {
   "cell_type": "code",
   "execution_count": null,
   "id": "15a319a9",
   "metadata": {},
   "outputs": [],
   "source": [
    "results = resnet50_features.predict(faces_ready_for_model)"
   ]
  },
  {
   "cell_type": "code",
   "execution_count": null,
   "id": "c1a514c2",
   "metadata": {},
   "outputs": [],
   "source": [
    "type(results)"
   ]
  },
  {
   "cell_type": "code",
   "execution_count": null,
   "id": "1fe0a9b8",
   "metadata": {},
   "outputs": [],
   "source": [
    "results[0][0][0]"
   ]
  },
  {
   "cell_type": "code",
   "execution_count": null,
   "id": "680b3cb2",
   "metadata": {},
   "outputs": [],
   "source": [
    "np.savetxt('extracted_features_per_img.csv', results[:,0,0])"
   ]
  }
 ],
 "metadata": {
  "kernelspec": {
   "display_name": "Python 3 (ipykernel)",
   "language": "python",
   "name": "python3"
  },
  "language_info": {
   "codemirror_mode": {
    "name": "ipython",
    "version": 3
   },
   "file_extension": ".py",
   "mimetype": "text/x-python",
   "name": "python",
   "nbconvert_exporter": "python",
   "pygments_lexer": "ipython3",
   "version": "3.8.2"
  }
 },
 "nbformat": 4,
 "nbformat_minor": 5
}
