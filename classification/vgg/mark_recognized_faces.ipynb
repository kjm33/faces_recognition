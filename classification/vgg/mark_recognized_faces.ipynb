{
 "cells": [
  {
   "cell_type": "code",
   "execution_count": 2,
   "id": "02c8befc",
   "metadata": {},
   "outputs": [],
   "source": [
    "from pathlib import Path\n",
    "from retinaface import RetinaFace\n",
    "from tensorflow import keras\n",
    "from keras_vggface.utils import preprocess_input\n",
    "import numpy as np"
   ]
  },
  {
   "cell_type": "code",
   "execution_count": 24,
   "id": "0c5bc8dd",
   "metadata": {
    "collapsed": true
   },
   "outputs": [],
   "source": [
    "import cv2"
   ]
  },
  {
   "cell_type": "code",
   "execution_count": 29,
   "id": "c3413c0a",
   "metadata": {},
   "outputs": [],
   "source": [
    "from keras_vggface.utils import preprocess_input"
   ]
  },
  {
   "cell_type": "code",
   "execution_count": 18,
   "id": "3b4507b0",
   "metadata": {},
   "outputs": [],
   "source": [
    "cwd = Path(os.path.abspath(''))\n",
    "sys.path.append(str(cwd.parent.parent))\n",
    "sys.path.append(str(cwd.parent.parent/\"recognition\"))"
   ]
  },
  {
   "cell_type": "code",
   "execution_count": 19,
   "id": "6383b24f",
   "metadata": {
    "collapsed": true
   },
   "outputs": [
    {
     "data": {
      "text/plain": [
       "['/Users/kmielcar/Documents/projects/faces_classification/classification/vgg',\n",
       " '/Library/Developer/CommandLineTools/Library/Frameworks/Python3.framework/Versions/3.8/lib/python38.zip',\n",
       " '/Library/Developer/CommandLineTools/Library/Frameworks/Python3.framework/Versions/3.8/lib/python3.8',\n",
       " '/Library/Developer/CommandLineTools/Library/Frameworks/Python3.framework/Versions/3.8/lib/python3.8/lib-dynload',\n",
       " '',\n",
       " '/Users/kmielcar/Documents/projects/faces_classification/venv/lib/python3.8/site-packages',\n",
       " PosixPath('/Users/kmielcar/Documents/projects/faces_classification/classification'),\n",
       " PosixPath('/Users/kmielcar/Documents/projects/faces_classification'),\n",
       " '/Users/kmielcar/Documents/projects/faces_classification',\n",
       " '/Users/kmielcar/Documents/projects/faces_classification',\n",
       " '/Users/kmielcar/Documents/projects/faces_classification',\n",
       " '/Users/kmielcar/Documents/projects/faces_classification',\n",
       " '/Users/kmielcar/Documents/projects/faces_classification/recognition']"
      ]
     },
     "execution_count": 19,
     "metadata": {},
     "output_type": "execute_result"
    }
   ],
   "source": [
    "sys.path"
   ]
  },
  {
   "cell_type": "code",
   "execution_count": 20,
   "id": "60691f5c",
   "metadata": {
    "collapsed": true
   },
   "outputs": [],
   "source": [
    "from crop import crop"
   ]
  },
  {
   "cell_type": "code",
   "execution_count": 56,
   "id": "2ece792a",
   "metadata": {
    "collapsed": true
   },
   "outputs": [],
   "source": [
    "import importlib"
   ]
  },
  {
   "cell_type": "code",
   "execution_count": 60,
   "id": "ea280e37",
   "metadata": {},
   "outputs": [],
   "source": [
    "import common"
   ]
  },
  {
   "cell_type": "code",
   "execution_count": null,
   "id": "39041755",
   "metadata": {},
   "outputs": [],
   "source": [
    "importlib.reload(common)"
   ]
  },
  {
   "cell_type": "code",
   "execution_count": 62,
   "id": "cd611be6",
   "metadata": {},
   "outputs": [],
   "source": [
    "from common import EXPECTED_SIZE, GIRLS"
   ]
  },
  {
   "cell_type": "code",
   "execution_count": 21,
   "id": "f07a0777",
   "metadata": {},
   "outputs": [],
   "source": [
    "test_dir = Path(\"../../images/test/Grafiti/\")\n",
    "output_dir = Path(\"../../images/results/\")"
   ]
  },
  {
   "cell_type": "code",
   "execution_count": 22,
   "id": "20c526be",
   "metadata": {
    "collapsed": true
   },
   "outputs": [],
   "source": [
    "image_paths = list(test_dir.glob(\"*jpg\"))"
   ]
  },
  {
   "cell_type": "code",
   "execution_count": 31,
   "id": "b9cd9a12",
   "metadata": {},
   "outputs": [],
   "source": [
    "model = keras.models.load_model('trained_vgg_on_girls/')"
   ]
  },
  {
   "cell_type": "code",
   "execution_count": 77,
   "id": "fb6b3868",
   "metadata": {},
   "outputs": [],
   "source": [
    "def process_img(img_path:Path):\n",
    "    out_path = output_dir / img_path.name\n",
    "    \n",
    "    if out_path.exists():\n",
    "        return\n",
    "\n",
    "    detected_faces_desc = RetinaFace.detect_faces(str(img_path))\n",
    "    \n",
    "    if type(detected_faces_desc) != dict:\n",
    "        return\n",
    "\n",
    "    faces = detected_faces_desc.values()\n",
    "    if not faces:\n",
    "        return\n",
    "    \n",
    "    print(img_path)\n",
    "\n",
    "    img_bgr = cv2.imread(str(img_path))\n",
    "    \n",
    "    for face_details in faces:\n",
    "        face_roi = face_details['facial_area']\n",
    "\n",
    "        cropped_face_img = crop(img_bgr, *face_roi)\n",
    "        \n",
    "        cropped_face_img = cropped_face_img.astype('float32')\n",
    "        sample = np.expand_dims(cropped_face_img, axis=0)\n",
    "        sample = preprocess_input(sample, version=2)\n",
    "        \n",
    "        pred = model.predict(sample)\n",
    "        max_val_ind = np.argmax(pred[0])\n",
    "        proba = pred[0][max_val_ind]\n",
    "        \n",
    "        text = \"{}: {:.2f}%\".format(GIRLS[max_val_ind], proba * 100)\n",
    "        left, top, right, bottom = face_roi\n",
    "        y = top - 10 if top - 10 > 10 else top + 10\n",
    "        cv2.rectangle(img_bgr, (left, top), (right, bottom), (0, 255, 0), 2)\n",
    "        marked_img = cv2.putText(img_bgr, text, (left, y), cv2.FONT_HERSHEY_SIMPLEX, 0.45, (0, 255, 0), 2)\n",
    "        \n",
    "        \n",
    "        cv2.imwrite(str(out_path), marked_img)"
   ]
  },
  {
   "cell_type": "code",
   "execution_count": 78,
   "id": "a39d370f",
   "metadata": {},
   "outputs": [
    {
     "name": "stdout",
     "output_type": "stream",
     "text": [
      "../../images/test/Grafiti/1657797459985.jpg\n",
      "1/1 [==============================] - 0s 60ms/step\n",
      "../../images/test/Grafiti/1657797460123.jpg\n",
      "1/1 [==============================] - 0s 65ms/step\n",
      "../../images/test/Grafiti/1657797459831.jpg\n",
      "1/1 [==============================] - 0s 58ms/step\n"
     ]
    }
   ],
   "source": [
    "for img_path in image_paths:\n",
    "    process_img(img_path)"
   ]
  }
 ],
 "metadata": {
  "kernelspec": {
   "display_name": "Python 3 (ipykernel)",
   "language": "python",
   "name": "python3"
  },
  "language_info": {
   "codemirror_mode": {
    "name": "ipython",
    "version": 3
   },
   "file_extension": ".py",
   "mimetype": "text/x-python",
   "name": "python",
   "nbconvert_exporter": "python",
   "pygments_lexer": "ipython3",
   "version": "3.8.2"
  }
 },
 "nbformat": 4,
 "nbformat_minor": 5
}
