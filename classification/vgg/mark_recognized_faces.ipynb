{
 "cells": [
  {
   "cell_type": "code",
   "execution_count": 2,
   "id": "9ac8df20",
   "metadata": {},
   "outputs": [],
   "source": [
    "from pathlib import Path\n",
    "from retinaface import RetinaFace\n",
    "from tensorflow import keras\n",
    "from keras_vggface.utils import preprocess_input\n",
    "import numpy as np"
   ]
  },
  {
   "cell_type": "code",
   "execution_count": 24,
   "id": "1cad3806",
   "metadata": {
    "collapsed": true
   },
   "outputs": [],
   "source": [
    "import cv2"
   ]
  },
  {
   "cell_type": "code",
   "execution_count": 29,
   "id": "36dabcd5",
   "metadata": {},
   "outputs": [],
   "source": [
    "from keras_vggface.utils import preprocess_input"
   ]
  },
  {
   "cell_type": "code",
   "execution_count": 18,
   "id": "47bd3fda",
   "metadata": {},
   "outputs": [],
   "source": [
    "cwd = Path(os.path.abspath(''))\n",
    "sys.path.append(str(cwd.parent.parent))\n",
    "sys.path.append(str(cwd.parent.parent/\"recognition\"))"
   ]
  },
  {
   "cell_type": "code",
   "execution_count": 19,
   "id": "99e514c4",
   "metadata": {
    "collapsed": true
   },
   "outputs": [
    {
     "data": {
      "text/plain": [
       "['/Users/kmielcar/Documents/projects/faces_classification/classification/vgg',\n",
       " '/Library/Developer/CommandLineTools/Library/Frameworks/Python3.framework/Versions/3.8/lib/python38.zip',\n",
       " '/Library/Developer/CommandLineTools/Library/Frameworks/Python3.framework/Versions/3.8/lib/python3.8',\n",
       " '/Library/Developer/CommandLineTools/Library/Frameworks/Python3.framework/Versions/3.8/lib/python3.8/lib-dynload',\n",
       " '',\n",
       " '/Users/kmielcar/Documents/projects/faces_classification/venv/lib/python3.8/site-packages',\n",
       " PosixPath('/Users/kmielcar/Documents/projects/faces_classification/classification'),\n",
       " PosixPath('/Users/kmielcar/Documents/projects/faces_classification'),\n",
       " '/Users/kmielcar/Documents/projects/faces_classification',\n",
       " '/Users/kmielcar/Documents/projects/faces_classification',\n",
       " '/Users/kmielcar/Documents/projects/faces_classification',\n",
       " '/Users/kmielcar/Documents/projects/faces_classification',\n",
       " '/Users/kmielcar/Documents/projects/faces_classification/recognition']"
      ]
     },
     "execution_count": 19,
     "metadata": {},
     "output_type": "execute_result"
    }
   ],
   "source": [
    "sys.path"
   ]
  },
  {
   "cell_type": "code",
   "execution_count": 20,
   "id": "83ced8ac",
   "metadata": {
    "collapsed": true
   },
   "outputs": [],
   "source": [
    "from crop import crop"
   ]
  },
  {
   "cell_type": "code",
   "execution_count": 35,
   "id": "17699cbd",
   "metadata": {},
   "outputs": [
    {
     "ename": "ImportError",
     "evalue": "cannot import name 'GIRLS' from 'common' (/Users/kmielcar/Documents/projects/faces_classification/common.py)",
     "output_type": "error",
     "traceback": [
      "\u001b[0;31m---------------------------------------------------------------------------\u001b[0m",
      "\u001b[0;31mImportError\u001b[0m                               Traceback (most recent call last)",
      "Input \u001b[0;32mIn [35]\u001b[0m, in \u001b[0;36m<cell line: 1>\u001b[0;34m()\u001b[0m\n\u001b[0;32m----> 1\u001b[0m \u001b[38;5;28;01mfrom\u001b[39;00m \u001b[38;5;21;01mcommon\u001b[39;00m \u001b[38;5;28;01mimport\u001b[39;00m EXPECTED_SIZE, GIRLS\n",
      "\u001b[0;31mImportError\u001b[0m: cannot import name 'GIRLS' from 'common' (/Users/kmielcar/Documents/projects/faces_classification/common.py)"
     ]
    }
   ],
   "source": [
    "from common import EXPECTED_SIZE, GIRLS"
   ]
  },
  {
   "cell_type": "code",
   "execution_count": 21,
   "id": "28a7f75e",
   "metadata": {},
   "outputs": [],
   "source": [
    "test_dir = Path(\"../../images/test/Grafiti/\")\n",
    "output_dir = Path(\"../../images/results/\")"
   ]
  },
  {
   "cell_type": "code",
   "execution_count": 22,
   "id": "7b60ab76",
   "metadata": {
    "collapsed": true
   },
   "outputs": [],
   "source": [
    "image_paths = list(test_dir.glob(\"*jpg\"))"
   ]
  },
  {
   "cell_type": "code",
   "execution_count": 31,
   "id": "99175a24",
   "metadata": {},
   "outputs": [],
   "source": [
    "model = keras.models.load_model('trained_vgg_on_girls/')"
   ]
  },
  {
   "cell_type": "code",
   "execution_count": 23,
   "id": "7a919872",
   "metadata": {},
   "outputs": [],
   "source": [
    "test_img = image_paths[0]"
   ]
  },
  {
   "cell_type": "code",
   "execution_count": 27,
   "id": "ae23e2a0",
   "metadata": {},
   "outputs": [],
   "source": [
    "img_bgr = cv2.imread(str(test_img))\n",
    "img_color = cv2.cvtColor(img_bgr, cv2.COLOR_BGR2RGB)"
   ]
  },
  {
   "cell_type": "code",
   "execution_count": 28,
   "id": "09723aea",
   "metadata": {
    "collapsed": true
   },
   "outputs": [],
   "source": [
    "detected_faces_desc = RetinaFace.detect_faces(str(test_img))"
   ]
  },
  {
   "cell_type": "code",
   "execution_count": 40,
   "id": "6f366dc5",
   "metadata": {},
   "outputs": [
    {
     "data": {
      "text/plain": [
       "{'face_1': {'score': 0.9995710253715515,\n",
       "  'facial_area': [1525, 1936, 1782, 2288],\n",
       "  'landmarks': {'right_eye': [1598.3859, 2070.3555],\n",
       "   'left_eye': [1717.3215, 2065.498],\n",
       "   'nose': [1664.9056, 2099.313],\n",
       "   'mouth_right': [1613.1334, 2183.6394],\n",
       "   'mouth_left': [1719.8961, 2178.893]}}}"
      ]
     },
     "execution_count": 40,
     "metadata": {},
     "output_type": "execute_result"
    }
   ],
   "source": [
    "detected_faces_desc"
   ]
  },
  {
   "cell_type": "code",
   "execution_count": 44,
   "id": "5f5207c4",
   "metadata": {},
   "outputs": [
    {
     "name": "stdout",
     "output_type": "stream",
     "text": [
      "1/1 [==============================] - 0s 63ms/step\n"
     ]
    }
   ],
   "source": [
    "for face_details in detected_faces_desc.values():\n",
    "    face_roi = face_details['facial_area']\n",
    "    \n",
    "    cropped_face_img = crop(img_bgr, *face_roi)\n",
    "    cropped_face_img = cropped_face_img.astype('float32')\n",
    "    sample = np.expand_dims(cropped_face_img, axis=0)\n",
    "    sample = preprocess_input(sample, version=2)\n",
    "    pred = model.predict(sample)"
   ]
  },
  {
   "cell_type": "code",
   "execution_count": 45,
   "id": "c8cb064a",
   "metadata": {},
   "outputs": [
    {
     "data": {
      "text/plain": [
       "array([[1.7874803e-22, 1.0000000e+00, 1.6545585e-19]], dtype=float32)"
      ]
     },
     "execution_count": 45,
     "metadata": {},
     "output_type": "execute_result"
    }
   ],
   "source": [
    "pred"
   ]
  },
  {
   "cell_type": "code",
   "execution_count": 49,
   "id": "665fce30",
   "metadata": {},
   "outputs": [],
   "source": [
    "ind = np.argmax(pred[0])"
   ]
  },
  {
   "cell_type": "code",
   "execution_count": 50,
   "id": "cfd5d71c",
   "metadata": {},
   "outputs": [],
   "source": [
    "proba = pred[0][ind]"
   ]
  },
  {
   "cell_type": "code",
   "execution_count": 51,
   "id": "49ff91b0",
   "metadata": {},
   "outputs": [],
   "source": [
    "text = \"{}: {:.2f}%\".format(\"Shira\", proba * 100)"
   ]
  },
  {
   "cell_type": "code",
   "execution_count": 54,
   "id": "8ad529eb",
   "metadata": {},
   "outputs": [],
   "source": [
    "left, top, right, bottom = face_roi\n",
    "y = top - 10 if top - 10 > 10 else top + 10\n",
    "cv2.rectangle(img_bgr, (left, top), (right, bottom), (0, 0, 255), 2)\n",
    "marked_img = cv2.putText(img_bgr, text, (left, y), cv2.FONT_HERSHEY_SIMPLEX, 0.45, (0, 0, 255), 2)"
   ]
  },
  {
   "cell_type": "code",
   "execution_count": 55,
   "id": "00ed8a5a",
   "metadata": {},
   "outputs": [
    {
     "data": {
      "text/plain": [
       "True"
      ]
     },
     "execution_count": 55,
     "metadata": {},
     "output_type": "execute_result"
    }
   ],
   "source": [
    "cv2.imwrite(\"out.jpg\", marked_img)"
   ]
  },
  {
   "cell_type": "code",
   "execution_count": null,
   "id": "1474e791",
   "metadata": {},
   "outputs": [],
   "source": []
  }
 ],
 "metadata": {
  "kernelspec": {
   "display_name": "Python 3 (ipykernel)",
   "language": "python",
   "name": "python3"
  },
  "language_info": {
   "codemirror_mode": {
    "name": "ipython",
    "version": 3
   },
   "file_extension": ".py",
   "mimetype": "text/x-python",
   "name": "python",
   "nbconvert_exporter": "python",
   "pygments_lexer": "ipython3",
   "version": "3.8.2"
  }
 },
 "nbformat": 4,
 "nbformat_minor": 5
}
