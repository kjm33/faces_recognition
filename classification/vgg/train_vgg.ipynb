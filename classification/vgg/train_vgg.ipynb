{
 "cells": [
  {
   "cell_type": "code",
   "execution_count": 1,
   "id": "f73102fe",
   "metadata": {},
   "outputs": [],
   "source": [
    "from PIL import Image\n",
    "from pathlib import Path\n",
    "import numpy as np"
   ]
  },
  {
   "cell_type": "code",
   "execution_count": 2,
   "id": "aee25e42",
   "metadata": {},
   "outputs": [],
   "source": [
    "from keras_vggface.vggface import VGGFace\n",
    "from keras_vggface.utils import preprocess_input\n",
    "from keras_vggface.utils import decode_predictions"
   ]
  },
  {
   "cell_type": "code",
   "execution_count": 3,
   "id": "b7051061",
   "metadata": {},
   "outputs": [],
   "source": [
    "from tensorflow.keras.utils import to_categorical\n",
    "from sklearn.model_selection import train_test_split"
   ]
  },
  {
   "cell_type": "code",
   "execution_count": 4,
   "id": "e8677926",
   "metadata": {},
   "outputs": [],
   "source": [
    "from sklearn.model_selection import train_test_split"
   ]
  },
  {
   "cell_type": "code",
   "execution_count": 5,
   "id": "76d888ab",
   "metadata": {},
   "outputs": [],
   "source": [
    "from keras.models import Sequential\n",
    "from keras.layers import Flatten, Dense, Resizing"
   ]
  },
  {
   "cell_type": "code",
   "execution_count": 6,
   "id": "844ab908",
   "metadata": {},
   "outputs": [],
   "source": [
    "EXPECTED_SIZE = (224, 224)"
   ]
  },
  {
   "cell_type": "code",
   "execution_count": 7,
   "id": "d22b50f0",
   "metadata": {},
   "outputs": [],
   "source": [
    "GIRLS = ('noam', 'shira', 'other')"
   ]
  },
  {
   "cell_type": "code",
   "execution_count": 8,
   "id": "f8a8e208",
   "metadata": {},
   "outputs": [],
   "source": [
    "def load_img(img_path:Path):\n",
    "    img = Image.open(img_path)\n",
    "    img = img.resize(EXPECTED_SIZE)\n",
    "    img_array = np.asarray(img, dtype=np.float32)\n",
    "#     img_norm = img_array / 255.0 # scale uint8 coded colors to the [0.0, 1.0] floats\n",
    "    return img_array"
   ]
  },
  {
   "cell_type": "code",
   "execution_count": 9,
   "id": "51c64ff1",
   "metadata": {},
   "outputs": [],
   "source": [
    "images_dir = Path(\"../../images/faces/\")\n",
    "image_paths = list(images_dir.glob(\"*/*jpg\"))"
   ]
  },
  {
   "cell_type": "code",
   "execution_count": 11,
   "id": "ce8b81dc",
   "metadata": {},
   "outputs": [
    {
     "data": {
      "text/plain": [
       "'noam'"
      ]
     },
     "execution_count": 11,
     "metadata": {},
     "output_type": "execute_result"
    }
   ],
   "source": [
    "image_paths[0].parent.name"
   ]
  },
  {
   "cell_type": "code",
   "execution_count": 12,
   "id": "94979335",
   "metadata": {},
   "outputs": [],
   "source": [
    "faces = np.zeros((len(image_paths), *EXPECTED_SIZE, 3), dtype=np.float32)\n",
    "target_label_idxs = []\n",
    "\n",
    "for i, img_path in enumerate(image_paths):\n",
    "    face = load_img(img_path)\n",
    "    girl_name = img_path.parent.name\n",
    "    girl_name_idx = GIRLS.index(girl_name)\n",
    "    \n",
    "    faces[i, ...] = face\n",
    "    target_label_idxs.append(girl_name_idx)"
   ]
  },
  {
   "cell_type": "code",
   "execution_count": 13,
   "id": "1b215ebc",
   "metadata": {},
   "outputs": [],
   "source": [
    "faces_ready_for_model = preprocess_input(faces, version=2)\n",
    "face_labels = to_categorical(target_label_idxs)"
   ]
  },
  {
   "cell_type": "code",
   "execution_count": 14,
   "id": "b03b2af7",
   "metadata": {},
   "outputs": [],
   "source": [
    "x_train, x_test, y_train, y_test = train_test_split(faces_ready_for_model, face_labels, train_size=0.8, stratify=face_labels, random_state=0)"
   ]
  },
  {
   "cell_type": "code",
   "execution_count": 15,
   "id": "ed49d013",
   "metadata": {},
   "outputs": [
    {
     "name": "stderr",
     "output_type": "stream",
     "text": [
      "2022-07-30 11:24:14.733784: I tensorflow/core/platform/cpu_feature_guard.cc:193] This TensorFlow binary is optimized with oneAPI Deep Neural Network Library (oneDNN) to use the following CPU instructions in performance-critical operations:  AVX2 FMA\n",
      "To enable them in other operations, rebuild TensorFlow with the appropriate compiler flags.\n"
     ]
    }
   ],
   "source": [
    "base_model = VGGFace(model='resnet50', include_top=False, input_shape=(224, 224, 3))\n",
    "base_model.trainable = False\n",
    " \n",
    "model = Sequential()\n",
    "model.add(Resizing(224, 224))\n",
    "model.add(base_model)\n",
    "model.add(Flatten())\n",
    "model.add(Dense(1024, activation='relu'))\n",
    "model.add(Dense(len(GIRLS), activation='softmax'))\n",
    "model.compile(optimizer='adam', loss='categorical_crossentropy', metrics=['accuracy'])"
   ]
  },
  {
   "cell_type": "code",
   "execution_count": 16,
   "id": "c9954ed1",
   "metadata": {},
   "outputs": [
    {
     "name": "stdout",
     "output_type": "stream",
     "text": [
      "Epoch 1/3\n",
      "12/12 [==============================] - 8s 454ms/step - loss: 6.9998 - accuracy: 0.5982 - val_loss: 1.5418 - val_accuracy: 0.8276\n",
      "Epoch 2/3\n",
      "12/12 [==============================] - 5s 383ms/step - loss: 0.3381 - accuracy: 0.9464 - val_loss: 0.1531 - val_accuracy: 0.9655\n",
      "Epoch 3/3\n",
      "12/12 [==============================] - 4s 371ms/step - loss: 0.1019 - accuracy: 0.9732 - val_loss: 0.3891 - val_accuracy: 0.9655\n"
     ]
    }
   ],
   "source": [
    "hist = model.fit(x_train, y_train, validation_data=(x_test, y_test), batch_size=10, epochs=3)"
   ]
  },
  {
   "cell_type": "code",
   "execution_count": 17,
   "id": "e9e11e9d",
   "metadata": {},
   "outputs": [
    {
     "name": "stderr",
     "output_type": "stream",
     "text": [
      "WARNING:absl:Found untraced functions such as _jit_compiled_convolution_op, _jit_compiled_convolution_op, _jit_compiled_convolution_op, _jit_compiled_convolution_op, _jit_compiled_convolution_op while saving (showing 5 of 53). These functions will not be directly callable after loading.\n"
     ]
    },
    {
     "name": "stdout",
     "output_type": "stream",
     "text": [
      "INFO:tensorflow:Assets written to: trained_vgg_on_girls/assets\n"
     ]
    },
    {
     "name": "stderr",
     "output_type": "stream",
     "text": [
      "INFO:tensorflow:Assets written to: trained_vgg_on_girls/assets\n"
     ]
    }
   ],
   "source": [
    "model.save(\"trained_vgg_on_girls\")"
   ]
  },
  {
   "cell_type": "code",
   "execution_count": 18,
   "id": "f64231d1",
   "metadata": {},
   "outputs": [],
   "source": [
    "samples = np.zeros((2, *EXPECTED_SIZE, 3), dtype=np.float32)\n",
    "shira = load_img(\"../shirush.jpeg\")\n",
    "noam = load_img(\"../noamush.jpeg\")\n",
    "samples[0, ...] = shira\n",
    "samples[1, ...] = noam"
   ]
  },
  {
   "cell_type": "code",
   "execution_count": 19,
   "id": "67d6a85b",
   "metadata": {},
   "outputs": [
    {
     "name": "stdout",
     "output_type": "stream",
     "text": [
      "1/1 [==============================] - 1s 666ms/step\n"
     ]
    }
   ],
   "source": [
    "samples = preprocess_input(samples, version=2)\n",
    "result = model.predict(samples)"
   ]
  },
  {
   "cell_type": "raw",
   "id": "481cc959",
   "metadata": {},
   "source": [
    "print(result)"
   ]
  },
  {
   "cell_type": "code",
   "execution_count": 20,
   "id": "cede3f3b",
   "metadata": {},
   "outputs": [
    {
     "data": {
      "text/plain": [
       "array([[2.3645646e-26, 1.0000000e+00, 9.8785807e-19],\n",
       "       [1.0000000e+00, 0.0000000e+00, 2.2672887e-22]], dtype=float32)"
      ]
     },
     "execution_count": 20,
     "metadata": {},
     "output_type": "execute_result"
    }
   ],
   "source": [
    "result"
   ]
  },
  {
   "cell_type": "code",
   "execution_count": null,
   "id": "d57e11cc",
   "metadata": {},
   "outputs": [],
   "source": []
  }
 ],
 "metadata": {
  "kernelspec": {
   "display_name": "Python 3 (ipykernel)",
   "language": "python",
   "name": "python3"
  },
  "language_info": {
   "codemirror_mode": {
    "name": "ipython",
    "version": 3
   },
   "file_extension": ".py",
   "mimetype": "text/x-python",
   "name": "python",
   "nbconvert_exporter": "python",
   "pygments_lexer": "ipython3",
   "version": "3.8.2"
  }
 },
 "nbformat": 4,
 "nbformat_minor": 5
}
