{
 "cells": [
  {
   "cell_type": "code",
   "execution_count": 13,
   "id": "017af868",
   "metadata": {},
   "outputs": [],
   "source": [
    "import numpy as np\n",
    "import pandas as pd\n",
    "from sklearn.datasets import fetch_lfw_people\n",
    "from tensorflow.keras.utils import to_categorical\n",
    "from tensorflow.keras.applications.resnet50 import preprocess_input\n",
    "from sklearn.model_selection import train_test_split"
   ]
  },
  {
   "cell_type": "code",
   "execution_count": 3,
   "id": "69e3ac4e",
   "metadata": {},
   "outputs": [],
   "source": [
    "faces = fetch_lfw_people(min_faces_per_person=100, resize=1.0, slice_=(slice(60, 188), slice(60, 188)), color=True)"
   ]
  },
  {
   "cell_type": "code",
   "execution_count": 4,
   "id": "a7358aa0",
   "metadata": {},
   "outputs": [
    {
     "data": {
      "text/plain": [
       "(1140, 49152)"
      ]
     },
     "execution_count": 4,
     "metadata": {},
     "output_type": "execute_result"
    }
   ],
   "source": [
    "faces.data.shape"
   ]
  },
  {
   "cell_type": "code",
   "execution_count": null,
   "id": "8bb0e5cf",
   "metadata": {},
   "outputs": [],
   "source": [
    "faces.images[0]"
   ]
  },
  {
   "cell_type": "code",
   "execution_count": 6,
   "id": "4ff3be74",
   "metadata": {},
   "outputs": [
    {
     "data": {
      "text/plain": [
       "(500, 128, 128, 3)"
      ]
     },
     "execution_count": 6,
     "metadata": {},
     "output_type": "execute_result"
    }
   ],
   "source": [
    "mask = np.zeros(faces.target.shape, dtype=bool)\n",
    "\n",
    "for target in np.unique(faces.target):\n",
    "    mask[np.where(faces.target == target)[0][:100]] = 1\n",
    "\n",
    "x_faces = faces.data[mask]\n",
    "y_faces = faces.target[mask]\n",
    "x_faces = np.reshape(x_faces, (x_faces.shape[0], faces.images.shape[1], faces.images.shape[2], faces.images.shape[3]))\n",
    "x_faces.shape"
   ]
  },
  {
   "cell_type": "code",
   "execution_count": 7,
   "id": "1b35167e",
   "metadata": {},
   "outputs": [
    {
     "data": {
      "text/plain": [
       "array([[[0.29803923, 0.30980393, 0.29803923],\n",
       "        [0.29411766, 0.30588236, 0.29803923],\n",
       "        [0.29803923, 0.3019608 , 0.30588236],\n",
       "        ...,\n",
       "        [0.2784314 , 0.2627451 , 0.21960784],\n",
       "        [0.2901961 , 0.27450982, 0.22745098],\n",
       "        [0.3019608 , 0.28627452, 0.23529412]],\n",
       "\n",
       "       [[0.28627452, 0.28627452, 0.2784314 ],\n",
       "        [0.26666668, 0.27058825, 0.27058825],\n",
       "        [0.25882354, 0.2627451 , 0.26666668],\n",
       "        ...,\n",
       "        [0.27450982, 0.25882354, 0.21176471],\n",
       "        [0.28235295, 0.26666668, 0.21568628],\n",
       "        [0.2901961 , 0.2784314 , 0.22352941]],\n",
       "\n",
       "       [[0.27058825, 0.25490198, 0.25882354],\n",
       "        [0.24705882, 0.23921569, 0.23921569],\n",
       "        [0.22352941, 0.22352941, 0.23137255],\n",
       "        ...,\n",
       "        [0.28235295, 0.25882354, 0.20392157],\n",
       "        [0.27450982, 0.2627451 , 0.2       ],\n",
       "        [0.28235295, 0.27058825, 0.21176471]],\n",
       "\n",
       "       ...,\n",
       "\n",
       "       [[0.03137255, 0.04313726, 0.07058824],\n",
       "        [0.03921569, 0.05098039, 0.07843138],\n",
       "        [0.05098039, 0.0627451 , 0.09019608],\n",
       "        ...,\n",
       "        [0.05882353, 0.05882353, 0.09411765],\n",
       "        [0.00392157, 0.00392157, 0.01176471],\n",
       "        [0.        , 0.        , 0.        ]],\n",
       "\n",
       "       [[0.03529412, 0.04705882, 0.07450981],\n",
       "        [0.03921569, 0.05098039, 0.07843138],\n",
       "        [0.05098039, 0.0627451 , 0.09019608],\n",
       "        ...,\n",
       "        [0.05882353, 0.05882353, 0.09411765],\n",
       "        [0.00392157, 0.00392157, 0.01176471],\n",
       "        [0.        , 0.        , 0.        ]],\n",
       "\n",
       "       [[0.03529412, 0.04705882, 0.07450981],\n",
       "        [0.03921569, 0.05098039, 0.07843138],\n",
       "        [0.05098039, 0.0627451 , 0.09019608],\n",
       "        ...,\n",
       "        [0.06666667, 0.0627451 , 0.09803922],\n",
       "        [0.00392157, 0.00392157, 0.01176471],\n",
       "        [0.        , 0.        , 0.        ]]], dtype=float32)"
      ]
     },
     "execution_count": 7,
     "metadata": {},
     "output_type": "execute_result"
    }
   ],
   "source": [
    "x_faces[0]"
   ]
  },
  {
   "cell_type": "code",
   "execution_count": 8,
   "id": "baaf725b",
   "metadata": {},
   "outputs": [],
   "source": [
    "face_images = preprocess_input(np.array(x_faces))\n",
    "face_labels = to_categorical(y_faces)\n",
    " \n",
    "x_train, x_test, y_train, y_test = train_test_split(face_images, face_labels, train_size=0.8, stratify=face_labels, random_state=0)"
   ]
  },
  {
   "cell_type": "code",
   "execution_count": 11,
   "id": "99209752",
   "metadata": {},
   "outputs": [
    {
     "data": {
      "text/plain": [
       "array([0., 0., 0., 1., 0.], dtype=float32)"
      ]
     },
     "execution_count": 11,
     "metadata": {},
     "output_type": "execute_result"
    }
   ],
   "source": [
    "y_train[0]"
   ]
  },
  {
   "cell_type": "code",
   "execution_count": 12,
   "id": "0d994c33",
   "metadata": {},
   "outputs": [
    {
     "data": {
      "text/plain": [
       "2"
      ]
     },
     "execution_count": 12,
     "metadata": {},
     "output_type": "execute_result"
    }
   ],
   "source": [
    "y_faces[0]"
   ]
  }
 ],
 "metadata": {
  "kernelspec": {
   "display_name": "Python 3 (ipykernel)",
   "language": "python",
   "name": "python3"
  },
  "language_info": {
   "codemirror_mode": {
    "name": "ipython",
    "version": 3
   },
   "file_extension": ".py",
   "mimetype": "text/x-python",
   "name": "python",
   "nbconvert_exporter": "python",
   "pygments_lexer": "ipython3",
   "version": "3.8.2"
  }
 },
 "nbformat": 4,
 "nbformat_minor": 5
}
