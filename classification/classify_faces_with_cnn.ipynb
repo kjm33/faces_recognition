{
 "cells": [
  {
   "cell_type": "code",
   "execution_count": null,
   "id": "38dff1de",
   "metadata": {},
   "outputs": [],
   "source": [
    "from pathlib import Path\n",
    "from retinaface import RetinaFace\n",
    "from tensorflow import keras"
   ]
  },
  {
   "cell_type": "code",
   "execution_count": null,
   "id": "7ee68e5d",
   "metadata": {},
   "outputs": [],
   "source": [
    "from matplotlib import pyplot as plt"
   ]
  },
  {
   "cell_type": "code",
   "execution_count": null,
   "id": "0604a744",
   "metadata": {},
   "outputs": [],
   "source": [
    "import sys"
   ]
  },
  {
   "cell_type": "code",
   "execution_count": null,
   "id": "5409b774",
   "metadata": {},
   "outputs": [],
   "source": [
    "import numpy as np"
   ]
  },
  {
   "cell_type": "code",
   "execution_count": null,
   "id": "80ef665e",
   "metadata": {},
   "outputs": [],
   "source": [
    "from keras_vggface.utils import preprocess_input"
   ]
  },
  {
   "cell_type": "code",
   "execution_count": null,
   "id": "62d0fa20",
   "metadata": {},
   "outputs": [],
   "source": [
    "sys.path.append(\"../recognition/\")"
   ]
  },
  {
   "cell_type": "code",
   "execution_count": null,
   "id": "8be00149",
   "metadata": {},
   "outputs": [],
   "source": [
    "from crop import CustomCrop"
   ]
  },
  {
   "cell_type": "code",
   "execution_count": null,
   "id": "51b38f9e",
   "metadata": {},
   "outputs": [],
   "source": [
    "EXPECTED_SIZE = (224, 224)\n",
    "GIRLS = ('noam', 'shira', 'other')"
   ]
  },
  {
   "cell_type": "code",
   "execution_count": null,
   "id": "2368664a",
   "metadata": {},
   "outputs": [],
   "source": [
    "model = keras.models.load_model('vgg/trained_vgg_on_girls/')"
   ]
  },
  {
   "cell_type": "code",
   "execution_count": null,
   "id": "1873ca65",
   "metadata": {},
   "outputs": [],
   "source": [
    "test_img = \"../images/test/IMG_20191102_170301.jpg\""
   ]
  },
  {
   "cell_type": "code",
   "execution_count": null,
   "id": "38612d27",
   "metadata": {},
   "outputs": [],
   "source": [
    "detected_faces_desc = RetinaFace.detect_faces(str(test_img))"
   ]
  },
  {
   "cell_type": "code",
   "execution_count": null,
   "id": "46e27458",
   "metadata": {},
   "outputs": [],
   "source": [
    "detected_faces_desc"
   ]
  },
  {
   "cell_type": "code",
   "execution_count": null,
   "id": "aeb498bf",
   "metadata": {},
   "outputs": [],
   "source": [
    "face1_roi = detected_faces_desc['face_1']['facial_area']"
   ]
  },
  {
   "cell_type": "code",
   "execution_count": null,
   "id": "caa999a6",
   "metadata": {},
   "outputs": [],
   "source": [
    "faces = np.array([CustomCrop(width=EXPECTED_SIZE[0], height=EXPECTED_SIZE[1], face_percent=80).crop(str(test_img), *face['facial_area']) for face in detected_faces_desc.values()], dtype=np.float32)"
   ]
  },
  {
   "cell_type": "code",
   "execution_count": null,
   "id": "5280e507",
   "metadata": {},
   "outputs": [],
   "source": [
    "samples = preprocess_input(faces, version=2)"
   ]
  },
  {
   "cell_type": "code",
   "execution_count": null,
   "id": "dab7c2a7",
   "metadata": {},
   "outputs": [],
   "source": [
    "results = model.predict(samples)"
   ]
  },
  {
   "cell_type": "code",
   "execution_count": null,
   "id": "191feb8d",
   "metadata": {},
   "outputs": [],
   "source": [
    "results"
   ]
  },
  {
   "cell_type": "code",
   "execution_count": null,
   "id": "c6bdbf76",
   "metadata": {},
   "outputs": [],
   "source": [
    "descriptive_results = [(GIRLS[np.argmax(r)], max(r)) for r in results]"
   ]
  },
  {
   "cell_type": "code",
   "execution_count": null,
   "id": "65e1cadd",
   "metadata": {},
   "outputs": [],
   "source": [
    "descriptive_results"
   ]
  },
  {
   "cell_type": "code",
   "execution_count": null,
   "id": "ca8673c0",
   "metadata": {},
   "outputs": [],
   "source": [
    "results"
   ]
  },
  {
   "cell_type": "code",
   "execution_count": null,
   "id": "cb0a88d0",
   "metadata": {},
   "outputs": [],
   "source": [
    "fig, ax = plt.subplots(2, 3, figsize=(18, 10))\n",
    " \n",
    "for i, axi in enumerate(ax.flat):\n",
    "    axi.imshow(faces[i] / 255) # Scale pixel values so Matplotlib doesn't clip everything above 1.0\n",
    "    axi.set(xticks=[], yticks=[], xlabel=f\"{descriptive_results[i][0]}: {descriptive_results[i][1]}\")"
   ]
  },
  {
   "cell_type": "code",
   "execution_count": null,
   "id": "600c60e3",
   "metadata": {},
   "outputs": [],
   "source": []
  }
 ],
 "metadata": {
  "kernelspec": {
   "display_name": "Python 3 (ipykernel)",
   "language": "python",
   "name": "python3"
  },
  "language_info": {
   "codemirror_mode": {
    "name": "ipython",
    "version": 3
   },
   "file_extension": ".py",
   "mimetype": "text/x-python",
   "name": "python",
   "nbconvert_exporter": "python",
   "pygments_lexer": "ipython3",
   "version": "3.8.2"
  }
 },
 "nbformat": 4,
 "nbformat_minor": 5
}
