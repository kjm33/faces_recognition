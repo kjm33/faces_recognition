{
 "cells": [
  {
   "cell_type": "code",
   "execution_count": 14,
   "id": "4920fee3",
   "metadata": {},
   "outputs": [],
   "source": [
    "import cv2\n",
    "import numpy as np\n",
    "from matplotlib import pyplot as plt"
   ]
  },
  {
   "cell_type": "code",
   "execution_count": 22,
   "id": "e1b468f8",
   "metadata": {},
   "outputs": [],
   "source": [
    "img_path = \"../images/original_photos/IMG_20190825_110831.jpg\""
   ]
  },
  {
   "cell_type": "code",
   "execution_count": 23,
   "id": "95320b14",
   "metadata": {},
   "outputs": [],
   "source": [
    "img_color = cv2.imread(img_path)"
   ]
  },
  {
   "cell_type": "code",
   "execution_count": 60,
   "id": "a6137fb7",
   "metadata": {},
   "outputs": [],
   "source": [
    "gray = cv2.cvtColor(img_color, cv2.COLOR_BGR2GRAY)\n",
    "# gray = cv2.equalizeHist(gray)"
   ]
  },
  {
   "cell_type": "code",
   "execution_count": 25,
   "id": "0d2c4df5",
   "metadata": {},
   "outputs": [],
   "source": [
    "nested = cv2.CascadeClassifier(\"haarcascades/haarcascade_eye.xml\")"
   ]
  },
  {
   "cell_type": "code",
   "execution_count": 41,
   "id": "0b31795a",
   "metadata": {},
   "outputs": [],
   "source": [
    "cascade = cv2.CascadeClassifier(\"haarcascades/haarcascade_frontalface_default.xml\")"
   ]
  },
  {
   "cell_type": "code",
   "execution_count": 66,
   "id": "6b02e0cb",
   "metadata": {},
   "outputs": [],
   "source": [
    "rects = cascade.detectMultiScale(gray, scaleFactor=1.1, minNeighbors=3)"
   ]
  },
  {
   "cell_type": "code",
   "execution_count": 67,
   "id": "5fbc869c",
   "metadata": {},
   "outputs": [
    {
     "data": {
      "text/plain": [
       "array([[2802,  331,  377,  377],\n",
       "       [1874,  457,  269,  269],\n",
       "       [ 664,  559,  284,  284],\n",
       "       [3146,  834,   93,   93],\n",
       "       [1575, 1509,  260,  260],\n",
       "       [1131, 1689,  110,  110]], dtype=int32)"
      ]
     },
     "execution_count": 67,
     "metadata": {},
     "output_type": "execute_result"
    }
   ],
   "source": [
    "rects"
   ]
  },
  {
   "cell_type": "code",
   "execution_count": 68,
   "id": "b15df13d",
   "metadata": {},
   "outputs": [],
   "source": [
    "def draw_rects(img, rects, color):\n",
    "    for x1, y1, x2, y2 in rects:\n",
    "        cv2.rectangle(img, (x1, y1), (x2, y2), color, 2)"
   ]
  },
  {
   "cell_type": "code",
   "execution_count": 69,
   "id": "2e27e963",
   "metadata": {},
   "outputs": [],
   "source": [
    "vis = img_color.copy()"
   ]
  },
  {
   "cell_type": "code",
   "execution_count": 70,
   "id": "21de4f50",
   "metadata": {},
   "outputs": [],
   "source": [
    "draw_rects(vis, rects, (0, 255, 0))"
   ]
  },
  {
   "cell_type": "code",
   "execution_count": 71,
   "id": "b2130f53",
   "metadata": {},
   "outputs": [],
   "source": [
    "RGB_im = cv2.cvtColor(vis, cv2.COLOR_BGR2RGB)"
   ]
  },
  {
   "cell_type": "code",
   "execution_count": null,
   "id": "2c4201f4",
   "metadata": {},
   "outputs": [],
   "source": [
    "plt.imshow(RGB_im)"
   ]
  },
  {
   "cell_type": "code",
   "execution_count": null,
   "id": "3306a568",
   "metadata": {},
   "outputs": [],
   "source": []
  }
 ],
 "metadata": {
  "kernelspec": {
   "display_name": "Python 3 (ipykernel)",
   "language": "python",
   "name": "python3"
  },
  "language_info": {
   "codemirror_mode": {
    "name": "ipython",
    "version": 3
   },
   "file_extension": ".py",
   "mimetype": "text/x-python",
   "name": "python",
   "nbconvert_exporter": "python",
   "pygments_lexer": "ipython3",
   "version": "3.8.2"
  }
 },
 "nbformat": 4,
 "nbformat_minor": 5
}
