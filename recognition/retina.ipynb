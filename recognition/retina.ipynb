{
 "cells": [
  {
   "cell_type": "code",
   "execution_count": null,
   "id": "34db502d",
   "metadata": {},
   "outputs": [],
   "source": [
    "from retinaface import RetinaFace\n",
    "import cv2\n",
    "import numpy as np\n",
    "from matplotlib import pyplot as plt"
   ]
  },
  {
   "cell_type": "code",
   "execution_count": null,
   "id": "11d52d6f",
   "metadata": {},
   "outputs": [],
   "source": [
    "img_path = \"../images/original_photos/IMG_20190826_132600.jpg\"\n",
    "img_bgr = cv2.imread(img_path)\n",
    "img_color = cv2.cvtColor(img_bgr, cv2.COLOR_BGR2RGB)"
   ]
  },
  {
   "cell_type": "code",
   "execution_count": null,
   "id": "20bf4778",
   "metadata": {},
   "outputs": [],
   "source": [
    "resp = RetinaFace.detect_faces(img_path)"
   ]
  },
  {
   "cell_type": "raw",
   "id": "9a7d19bc",
   "metadata": {},
   "source": [
    "print(resp)"
   ]
  },
  {
   "cell_type": "code",
   "execution_count": null,
   "id": "d092b76c",
   "metadata": {},
   "outputs": [],
   "source": [
    "resp"
   ]
  },
  {
   "cell_type": "code",
   "execution_count": null,
   "id": "091ebbc3",
   "metadata": {
    "scrolled": true
   },
   "outputs": [],
   "source": [
    "faces = RetinaFace.extract_faces(img_path = img_path, align = True)\n",
    "for face in faces:\n",
    "  plt.imshow(face)\n",
    "  plt.show()"
   ]
  },
  {
   "cell_type": "code",
   "execution_count": null,
   "id": "71f168c4",
   "metadata": {},
   "outputs": [],
   "source": [
    "faces[0].shape"
   ]
  }
 ],
 "metadata": {
  "kernelspec": {
   "display_name": "Python 3 (ipykernel)",
   "language": "python",
   "name": "python3"
  },
  "language_info": {
   "codemirror_mode": {
    "name": "ipython",
    "version": 3
   },
   "file_extension": ".py",
   "mimetype": "text/x-python",
   "name": "python",
   "nbconvert_exporter": "python",
   "pygments_lexer": "ipython3",
   "version": "3.8.2"
  }
 },
 "nbformat": 4,
 "nbformat_minor": 5
}
